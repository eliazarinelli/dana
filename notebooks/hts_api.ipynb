{
 "cells": [
  {
   "cell_type": "markdown",
   "metadata": {},
   "source": [
    "# HTS api functions"
   ]
  },
  {
   "cell_type": "markdown",
   "metadata": {},
   "source": [
    "Import DAna packages"
   ]
  },
  {
   "cell_type": "code",
   "execution_count": 11,
   "metadata": {
    "collapsed": true
   },
   "outputs": [],
   "source": [
    "import os\n",
    "import sys\n",
    "sys.path.insert(0, os.path.abspath('..'))\n",
    "    \n",
    "from dana.hts import Hts"
   ]
  },
  {
   "cell_type": "markdown",
   "metadata": {},
   "source": [
    "Connect to databases. You should have a local MongoDB running and you should have done the `quickstart_0_setup` steps before."
   ]
  },
  {
   "cell_type": "code",
   "execution_count": 12,
   "metadata": {
    "collapsed": true
   },
   "outputs": [],
   "source": [
    "hts = Hts(engine_url='mongodb://localhost:27017/', db_name='ts_example')"
   ]
  },
  {
   "cell_type": "markdown",
   "metadata": {},
   "source": [
    "#### get_ts\n",
    "\n",
    "Return a pymongo cursor to the time series.\n",
    "\n",
    "Input:\n",
    "* `symbol`: string, the selected symbol\n",
    "* `date`: int, the selected date\n",
    "* `min_start`: int, the starting minute\n",
    "* `min_end`: int, the ending minute"
   ]
  },
  {
   "cell_type": "code",
   "execution_count": 22,
   "metadata": {
    "collapsed": false,
    "scrolled": true
   },
   "outputs": [
    {
     "name": "stdout",
     "output_type": "stream",
     "text": [
      "110  -  99.27962538566827  -  100\n",
      "111  -  98.96644412948635  -  100\n",
      "112  -  99.94908917173333  -  100\n",
      "113  -  99.79444550312678  -  100\n",
      "114  -  99.86525039052695  -  100\n",
      "115  -  100.62563224819809  -  100\n",
      "116  -  99.87680885468393  -  100\n",
      "117  -  100.06127225154087  -  100\n",
      "118  -  99.58372947538035  -  100\n",
      "119  -  99.81168208808255  -  100\n"
     ]
    }
   ],
   "source": [
    "cursor = hts.get_ts(symbol='symbol_1', date=200000, min_start=110, min_end=120)\n",
    "for record in cursor:\n",
    "    print(record['mins'], ' - ', record['price'], ' - ', record['volume'])"
   ]
  },
  {
   "cell_type": "markdown",
   "metadata": {},
   "source": [
    "#### get_candle\n",
    "\n",
    "Return the OHLC candle of the period plus the VWAP and the total volume.\n",
    "\n",
    "Input:\n",
    "* `symbol`: string, the selected symbol\n",
    "* `date`: int, the selected date\n",
    "* `min_start`: int, the starting minute\n",
    "* `min_end`: int, the ending minute\n",
    "\n",
    "Output: \n",
    "\n",
    "dict with keys:\n",
    "\n",
    "* `open`: open price\n",
    "* `high`: high price\n",
    "* `low`: low price\n",
    "* `close`: close price\n",
    "* `vwap`: volume-weighted average price\n",
    "* `volume`: total volume"
   ]
  },
  {
   "cell_type": "code",
   "execution_count": 23,
   "metadata": {
    "collapsed": false
   },
   "outputs": [
    {
     "name": "stdout",
     "output_type": "stream",
     "text": [
      "('vwap', 99.78139794984276)\n",
      "('low', 98.96644412948635)\n",
      "('close', 99.81168208808255)\n",
      "('high', 100.62563224819809)\n",
      "('volume', 1000)\n",
      "('open', 99.27962538566827)\n"
     ]
    }
   ],
   "source": [
    "candle = hts.get_candle(symbol='symbol_1', date=200000, min_start=110, min_end=120)\n",
    "for i in candle.items():\n",
    "    print(i)"
   ]
  },
  {
   "cell_type": "code",
   "execution_count": null,
   "metadata": {
    "collapsed": true
   },
   "outputs": [],
   "source": []
  }
 ],
 "metadata": {
  "anaconda-cloud": {},
  "kernelspec": {
   "display_name": "Python [conda env:dana]",
   "language": "python",
   "name": "conda-env-dana-py"
  },
  "language_info": {
   "codemirror_mode": {
    "name": "ipython",
    "version": 3
   },
   "file_extension": ".py",
   "mimetype": "text/x-python",
   "name": "python",
   "nbconvert_exporter": "python",
   "pygments_lexer": "ipython3",
   "version": "3.5.2"
  }
 },
 "nbformat": 4,
 "nbformat_minor": 1
}
