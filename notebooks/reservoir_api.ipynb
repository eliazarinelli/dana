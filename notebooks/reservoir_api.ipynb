{
 "cells": [
  {
   "cell_type": "markdown",
   "metadata": {},
   "source": [
    "# OrderReservoir api"
   ]
  },
  {
   "cell_type": "markdown",
   "metadata": {},
   "source": [
    "Import DAna packages:"
   ]
  },
  {
   "cell_type": "code",
   "execution_count": 1,
   "metadata": {
    "collapsed": false
   },
   "outputs": [],
   "source": [
    "import os\n",
    "import sys\n",
    "sys.path.insert(0, os.path.abspath('..'))\n",
    "    \n",
    "from dana.reservoir import OrdersReservoir"
   ]
  },
  {
   "cell_type": "markdown",
   "metadata": {},
   "source": [
    "Connect to databases. You should have a local MongoDB running and you should have done the `quickstart_0_setup` steps before."
   ]
  },
  {
   "cell_type": "code",
   "execution_count": 2,
   "metadata": {
    "collapsed": true
   },
   "outputs": [],
   "source": [
    "reservoir = OrdersReservoir(engine_url='mongodb://localhost:27017/', db_name='orders_example')"
   ]
  },
  {
   "cell_type": "markdown",
   "metadata": {},
   "source": [
    "#### get_orders\n",
    "\n",
    "Get the orders in the db applying the filters below.\n",
    "\n",
    "Input:\n",
    "\n",
    "* `symbol_list=None`: list of symbols to include, if `None` does not apply\n",
    "* `mgr_list=None`: list of mgr codes to include, if `None` does not apply\n",
    "* `bkr_list=None`: list of bkr codes to include, if `None` does not apply\n",
    "* `date_list=None`: list of dates to include, if `None` does not apply\n",
    "* `sign=None`: int, sign to include, if `None` does not apply\n",
    "* `start_inf=None`: int, exclude orders with starting minute inferior to `start_inf`, if `None` does not apply\n",
    "* `start_sup=None`: int, exclude orders with starting minute superior to `start_sup`, if `None` does not apply\n",
    "* `end_inf=None`: int, exclude orders with ending minute inferior to `end_inf`, if `None` does not apply\n",
    "* `end_sup=None`: int, exclude orders with ending minute superior to `ens_sup`, if `None` does not apply\n",
    "* `duration_ph_inf=None`: int, exclude orders with duration in physical time inferior to `duration_ph_inf`, if `None` does not apply\n",
    "* `duration_ph_sup=None`: int, exculde orders with duration in physical time superior to `duration_ph_sup`, if `None` does not apply\n",
    "* `duration_vol_inf=None`: double, exclude orders with duration in volume time inferior to `duration_vol_inf`, if `None` does not apply \n",
    "* `duration_vol_sup=None`: double, exclude orders with duration in volume time superior to `duration_vol_sup`, if `None` does not apply\n",
    "* `prp_inf=None`: double, exclude orders with period participation rate inferior to `prp_inf`, if `None` does not apply\n",
    "* `prp_sup=None`: double, exclude orders with period participation rate superior to `prp_sup`, if `None` does not apply\n",
    "* `prd_inf=None`: double, exclude orders with daily participation rate inferior to `prd_inf`, if `None` does not apply\n",
    "* `prd_sup=None`: double, exclude orders with daily participation rate superior to `prd_sup`, if `None` does not apply\n",
    "\n",
    "Output:\n",
    "\n",
    "pymongo cursor"
   ]
  },
  {
   "cell_type": "code",
   "execution_count": 3,
   "metadata": {
    "collapsed": false,
    "scrolled": true
   },
   "outputs": [
    {
     "data": {
      "text/plain": [
       "{'_id': ObjectId('58c53a388ec2d9020834c2f8'),\n",
       " 'bkr': 'bkr_test',\n",
       " 'ci': {'available': True,\n",
       "  'duration_vol': 0.05,\n",
       "  'impact_co': 0.003042356605299523,\n",
       "  'impact_vo': 0.009506292702666095,\n",
       "  'impact_vv': 0.004152984163010992,\n",
       "  'pr_day': 0.005,\n",
       "  'pr_period': 0.1},\n",
       " 'date': 200000,\n",
       " 'duration_ph': 5,\n",
       " 'mgr': 'mgr_test',\n",
       " 'mi': {'available': True,\n",
       "  'm_0': 0.0,\n",
       "  'm_1': 0.006631302050553384,\n",
       "  'm_2': 0.008553051212259149,\n",
       "  'm_3': 0.008511925904422847,\n",
       "  'm_4': 0.003042356605299523},\n",
       " 'min_end': 191,\n",
       " 'min_start': 186,\n",
       " 'ntrades': 4,\n",
       " 'price': 100.06094123848004,\n",
       " 'sign': 1,\n",
       " 'symbol': 'symbol_0',\n",
       " 'volume': 50.0}"
      ]
     },
     "execution_count": 3,
     "metadata": {},
     "output_type": "execute_result"
    }
   ],
   "source": [
    "cursor = reservoir.get_orders(symbol_list=['symbol_0'], date_list=[200000], duration_ph_inf=1, duration_ph_sup=10)\n",
    "cursor[0]"
   ]
  },
  {
   "cell_type": "markdown",
   "metadata": {},
   "source": [
    "#### list_symbols\n",
    "\n",
    "Distinct symbols present in the db.\n",
    "\n",
    "Input:\n",
    "\n",
    "* `mgr_list=None`: list of mgr codes to include, if `None` does not apply\n",
    "* `bkr_list=None`: list of bkr codes to include, if `None` does not apply\n",
    "* `date_list=None`: list of dates to include, if `None` does not apply\n",
    "\n",
    "Output:\n",
    "\n",
    "Sorted list of distinct symbols."
   ]
  },
  {
   "cell_type": "code",
   "execution_count": 4,
   "metadata": {
    "collapsed": false
   },
   "outputs": [
    {
     "data": {
      "text/plain": [
       "['symbol_0', 'symbol_1', 'symbol_2', 'symbol_3', 'symbol_4']"
      ]
     },
     "execution_count": 4,
     "metadata": {},
     "output_type": "execute_result"
    }
   ],
   "source": [
    "symbols = reservoir.list_symbols(date_list=[200000,200001])\n",
    "symbols[0:5]"
   ]
  },
  {
   "cell_type": "markdown",
   "metadata": {},
   "source": [
    "#### list_dates\n",
    "\n",
    "Distinct dates present in the db.\n",
    "\n",
    "Input:\n",
    "\n",
    "* `symbol_list=None`: list of symbols to include, if `None` does not apply\n",
    "* `mgr_list=None`: list of mgr codes to include, if `None` does not apply\n",
    "* `bkr_list=None`: list of bkr codes to include, if `None` does not apply\n",
    "\n",
    "Output:\n",
    "\n",
    "Sorted list of distinct dates."
   ]
  },
  {
   "cell_type": "code",
   "execution_count": 5,
   "metadata": {
    "collapsed": false
   },
   "outputs": [
    {
     "data": {
      "text/plain": [
       "[200000, 200001, 200002, 200003, 200004]"
      ]
     },
     "execution_count": 5,
     "metadata": {},
     "output_type": "execute_result"
    }
   ],
   "source": [
    "dates = reservoir.list_dates(symbol_list=['symbol_1'])\n",
    "dates[0:5]"
   ]
  },
  {
   "cell_type": "markdown",
   "metadata": {},
   "source": [
    "#### bucketed_stats\n",
    "\n",
    "Bucket the orders according to the value of a field `field_x`. For each bucket calculate the mean and the standard deviation of `field_x` and `field_y`.\n",
    "\n",
    "Input:\n",
    "\n",
    "* `field_x`: string, the independent variable, the bucketing is done on the values of this field\n",
    "* `field_y`: string, the dependent variable\n",
    "* `boundaries`: list, the boundary values of the bucketing\n",
    "* same filter fields as in `get_orders`\n",
    "\n",
    "Output:\n",
    "\n",
    "Cursor of a list of dictionaries. Each dict contains the mean, the standard deviation and the count of the bucket.\n"
   ]
  },
  {
   "cell_type": "code",
   "execution_count": 6,
   "metadata": {
    "collapsed": false
   },
   "outputs": [
    {
     "data": {
      "image/png": "[encoded data removed]",
      "text/plain": [
       "<matplotlib.figure.Figure at 0x10cd344a8>"
      ]
     },
     "metadata": {},
     "output_type": "display_data"
    }
   ],
   "source": [
    "import numpy as np\n",
    "import matplotlib\n",
    "from matplotlib import pyplot as plt\n",
    "%matplotlib inline\n",
    "\n",
    "b_stat = reservoir.bucketed_stats(field_x='ci.duration_vol', field_y='duration_ph', boundaries=list(np.linspace(0,1,10)))\n",
    "b_stat = list(b_stat)\n",
    "\n",
    "x = [i['m_x'] for i in b_stat]\n",
    "y = [i['m_y'] for i in b_stat]\n",
    "plt.scatter(x,y)\n",
    "plt.show()"
   ]
  },
  {
   "cell_type": "markdown",
   "metadata": {
    "collapsed": true
   },
   "source": [
    "#### average_path\n",
    "\n",
    "Average the mi paths for the orders of a given duration\n",
    "\n",
    "Input:\n",
    "\n",
    "* `duration`: int, the order duration\n",
    "* same filter as `get_orders`, no `duration_ph` and `duration_vol` fields\n",
    "\n",
    "Output:\n",
    "\n",
    "Cursor of a list of dicts. The entries of the dict are the minute from the beginnin of the order and the corresponding average path. An extra item with key `nn` cotains the number of orders that contributed to the sample."
   ]
  },
  {
   "cell_type": "code",
   "execution_count": 36,
   "metadata": {
    "collapsed": false
   },
   "outputs": [
    {
     "name": "stdout",
     "output_type": "stream",
     "text": [
      "Numbers of orders contributing to the path: 191\n"
     ]
    },
    {
     "data": {
      "image/png": "[encoded data removed]",
      "text/plain": [
       "<matplotlib.figure.Figure at 0x10fe1b908>"
      ]
     },
     "metadata": {},
     "output_type": "display_data"
    }
   ],
   "source": [
    "# define the duration of interest\n",
    "duration = 51\n",
    "\n",
    "# get the average path\n",
    "cursor = reservoir.average_path(duration=duration)\n",
    "path = list(cursor)[0]\n",
    "print('Numbers of orders contributing to the path: ' + str(path['nn']))\n",
    "\n",
    "# generate a plot of the path\n",
    "x = list(range(duration))\n",
    "y = [path[str(i)] for i in x]\n",
    "plt.plot(x,y)\n",
    "plt.show()"
   ]
  },
  {
   "cell_type": "code",
   "execution_count": null,
   "metadata": {
    "collapsed": true
   },
   "outputs": [],
   "source": []
  }
 ],
 "metadata": {
  "anaconda-cloud": {},
  "kernelspec": {
   "display_name": "Python [conda env:dana]",
   "language": "python",
   "name": "conda-env-dana-py"
  },
  "language_info": {
   "codemirror_mode": {
    "name": "ipython",
    "version": 3
   },
   "file_extension": ".py",
   "mimetype": "text/x-python",
   "name": "python",
   "nbconvert_exporter": "python",
   "pygments_lexer": "ipython3",
   "version": "3.5.2"
  }
 },
 "nbformat": 4,
 "nbformat_minor": 1
}
