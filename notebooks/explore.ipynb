{
 "cells": [
  {
   "cell_type": "code",
   "execution_count": 18,
   "metadata": {
    "collapsed": false
   },
   "outputs": [
    {
     "name": "stdout",
     "output_type": "stream",
     "text": [
      "Number of orders:\n",
      "74\n",
      "Number of trades:\n",
      "344\n",
      "Total number of orders on AAPL:\n",
      "360\n"
     ]
    }
   ],
   "source": [
    "import os\n",
    "\n",
    "from context import dana\n",
    "\n",
    "# Database engine path\n",
    "db_path = os.path.abspath('../db/db')\n",
    "db_name = 'example.db'\n",
    "db_engine = '/'.join(['sqlite:///', db_path, db_name])\n",
    "\n",
    "# Create a connection to the api\n",
    "api = dana.dana.Dana(db_engine) \n",
    "\n",
    "# Get the orders executed on AAPL in the julian date 735600\n",
    "dd = api.get_day(date=735600, symbol='AAPL')\n",
    "\n",
    "# Print the number of orders and of trades \n",
    "print('Number of orders:')\n",
    "print(len(dd))\n",
    "print('Number of trades:')\n",
    "print(sum([i['n_trades'] for i in dd]))\n",
    "\n",
    "# Get the total number of orders in the database executed on AAPL\n",
    "print('Total number of orders on AAPL:')\n",
    "print(api.count_orders('AAPL'))"
   ]
  },
  {
   "cell_type": "code",
   "execution_count": null,
   "metadata": {
    "collapsed": true
   },
   "outputs": [],
   "source": []
  }
 ],
 "metadata": {
  "anaconda-cloud": {},
  "kernelspec": {
   "display_name": "Python [conda env:dana]",
   "language": "python",
   "name": "conda-env-dana-py"
  },
  "language_info": {
   "codemirror_mode": {
    "name": "ipython",
    "version": 3
   },
   "file_extension": ".py",
   "mimetype": "text/x-python",
   "name": "python",
   "nbconvert_exporter": "python",
   "pygments_lexer": "ipython3",
   "version": "3.5.2"
  }
 },
 "nbformat": 4,
 "nbformat_minor": 1
}
