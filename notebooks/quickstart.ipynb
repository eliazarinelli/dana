{
 "cells": [
  {
   "cell_type": "markdown",
   "metadata": {},
   "source": [
    "## Quickstart\n",
    "\n",
    "### Generate a random sample of orders and store in a sqlite database\n",
    "\n",
    "Generate a sample of $ 2^{10}$ random orders and store them in a pickle file in `db/stage/example.p`."
   ]
  },
  {
   "cell_type": "code",
   "execution_count": 1,
   "metadata": {
    "collapsed": false
   },
   "outputs": [],
   "source": [
    "import os\n",
    "import sys\n",
    "sys.path.insert(0, os.path.abspath('../dana/parsers'))\n",
    "import example_orders\n",
    "\n",
    "# create the orders\n",
    "n_orders = 2**10\n",
    "random_orders = example_orders._generate_orders(n_orders)\n",
    "\n",
    "# store the orders\n",
    "path_stage = os.path.relpath('../db/stage')\n",
    "name_pickle = 'pickle.p'\n",
    "example_orders._store_orders(random_orders, path_stage, name_pickle)"
   ]
  },
  {
   "cell_type": "markdown",
   "metadata": {},
   "source": [
    "Read the pickle file in `db/stage/example.p`, create an empty sqlite database in `db/db/example.db` and store the random orders in the database."
   ]
  },
  {
   "cell_type": "code",
   "execution_count": 2,
   "metadata": {
    "collapsed": false
   },
   "outputs": [
    {
     "name": "stdout",
     "output_type": "stream",
     "text": [
      "Added 1024 records in 0.01830291748046875 secs\n"
     ]
    }
   ],
   "source": [
    "sys.path.insert(0, os.path.abspath('../dana/dbadmin'))\n",
    "\n",
    "import populate_db\n",
    "\n",
    "# database configurations\n",
    "db_path = os.path.abspath('../db/db')\n",
    "db_name = 'example.db'\n",
    "engine_url = '/'.join(['sqlite:///', db_path, db_name])\n",
    "\n",
    "# create the folder where the db is stored\n",
    "if not os.path.exists(db_path):\n",
    "    os.makedirs(db_path)\n",
    "\n",
    "# create the engine\n",
    "engine = populate_db._init_sqlalchemy(engine_url)\n",
    "\n",
    "# clean the db\n",
    "# set the flag to True if you want to clean\n",
    "bool_clean_db = True\n",
    "if bool_clean_db:\n",
    "    populate_db._clean_db(engine)\n",
    "\n",
    "# pickle configurations\n",
    "path_stage = os.path.abspath('../db/stage')\n",
    "name_pickle = 'example.p'\n",
    "\n",
    "# read the orders in the pickle file and store in the db\n",
    "list_orders = populate_db._read_orders(path_stage, name_pickle)\n",
    "populate_db._populate_db(engine, list_orders)"
   ]
  },
  {
   "cell_type": "markdown",
   "metadata": {},
   "source": [
    "Test the main functionalities of the Dana API.\n",
    "* `get_day` returns all the orders of the input `date` and `symbol`\n",
    "* `count_orders` returns the number of orders in the database of the input `symbol`"
   ]
  },
  {
   "cell_type": "code",
   "execution_count": 4,
   "metadata": {
    "collapsed": false
   },
   "outputs": [
    {
     "name": "stdout",
     "output_type": "stream",
     "text": [
      "Number of orders:\n",
      "55\n",
      "Total number of orders on AAPL:\n",
      "326\n"
     ]
    }
   ],
   "source": [
    "import os\n",
    "\n",
    "from context import dana\n",
    "\n",
    "# Create a connection to the api\n",
    "api = dana.dana.Dana(engine_url) \n",
    "\n",
    "# Get the orders executed on AAPL in the julian date 735600\n",
    "dd = api.get_day(date=735600, symbol='AAPL')\n",
    "\n",
    "# Print the number of orders and of trades \n",
    "print('Number of orders:')\n",
    "print(len(dd))\n",
    "\n",
    "# Get the total number of orders in the database executed on AAPL\n",
    "print('Total number of orders on AAPL:')\n",
    "print(api.count_orders('AAPL'))"
   ]
  },
  {
   "cell_type": "code",
   "execution_count": null,
   "metadata": {
    "collapsed": true
   },
   "outputs": [],
   "source": []
  }
 ],
 "metadata": {
  "anaconda-cloud": {},
  "kernelspec": {
   "display_name": "Python [conda env:dana]",
   "language": "python",
   "name": "conda-env-dana-py"
  },
  "language_info": {
   "codemirror_mode": {
    "name": "ipython",
    "version": 3
   },
   "file_extension": ".py",
   "mimetype": "text/x-python",
   "name": "python",
   "nbconvert_exporter": "python",
   "pygments_lexer": "ipython3",
   "version": "3.5.2"
  }
 },
 "nbformat": 4,
 "nbformat_minor": 1
}
