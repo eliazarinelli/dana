{
 "cells": [
  {
   "cell_type": "markdown",
   "metadata": {},
   "source": [
    "# Quickstart\n",
    "\n",
    "### Intro\n",
    "\n",
    "In this quick tutorial, we create a database of orders and a database of time series. For each order we then retrieve the corresponding market infromation from the timeseries and we add them to the orders database. This allows us to introduce some methods of the database api. If you are woriking locally, please verify that a mongodb 3.4 is active on your machine."
   ]
  },
  {
   "cell_type": "markdown",
   "metadata": {},
   "source": [
    "### Database Setup\n",
    "\n",
    "First of all we import the database api. We connect to the port `localhost:27017` and to the databases `orders_example` and `ts_example`."
   ]
  },
  {
   "cell_type": "code",
   "execution_count": 1,
   "metadata": {
    "collapsed": false
   },
   "outputs": [],
   "source": [
    "import time\n",
    "import os\n",
    "import sys\n",
    "sys.path.insert(0, os.path.abspath('../dana'))\n",
    "import dana\n",
    "api = dana.Dana(engine_url='localhost:27017', db_orders_name='orders_example', db_ts_name='ts_example')"
   ]
  },
  {
   "cell_type": "markdown",
   "metadata": {},
   "source": [
    "We use the api methods `drop_ts()` and `drop_orders()` to drop the orders and ts databases, if they exist."
   ]
  },
  {
   "cell_type": "code",
   "execution_count": 27,
   "metadata": {
    "collapsed": false
   },
   "outputs": [
    {
     "name": "stdout",
     "output_type": "stream",
     "text": [
      "Database cleaned in seconds: 0.03942298889160156\n"
     ]
    }
   ],
   "source": [
    "t0 = time.time()\n",
    "api.drop_ts()\n",
    "api.drop_orders()\n",
    "print('Database cleaned in seconds: ' + str(time.time()-t0))"
   ]
  },
  {
   "cell_type": "markdown",
   "metadata": {},
   "source": [
    "### Market parameters\n",
    "\n",
    "We consider an hipoetetical market composed by the symbols AAPL, MSFT and GOOG, that is open in the Julian dates from 200000 to 200010 and that opens at 100 and closes at 200 minutes from midnight. Each day for each symbol 10 random orders are traded."
   ]
  },
  {
   "cell_type": "code",
   "execution_count": 28,
   "metadata": {
    "collapsed": true
   },
   "outputs": [],
   "source": [
    "date_list = range(200000, 200010)\n",
    "symbol_list = ['AAPL', 'MSFT', 'GOOG']\n",
    "market_open = 100\n",
    "market_close = 200\n",
    "n_orders = 10"
   ]
  },
  {
   "cell_type": "markdown",
   "metadata": {},
   "source": [
    "### Generate Orders\n",
    "\n",
    "We define a function that generate an order with random attributes. We use this function to generate orders for the market symbols and dates. The orders start and end at a random times between the market open and the market close. For each order, the traded volume and the execution price are random quantities. Once generated, we insert them in the database using the api method `insert_orders()`."
   ]
  },
  {
   "cell_type": "code",
   "execution_count": 29,
   "metadata": {
    "collapsed": false
   },
   "outputs": [
    {
     "name": "stdout",
     "output_type": "stream",
     "text": [
      "Insert 300 orders in: 0.4813880920410156\n"
     ]
    }
   ],
   "source": [
    "import numpy as np\n",
    "import itertools\n",
    "\n",
    "def generate_order(symbol, date, min_start, min_end):\n",
    "\n",
    "    \"\"\" Generate a random order \"\"\"\n",
    "\n",
    "    # maximum volume of an order\n",
    "    v_max = 100\n",
    "\n",
    "    # maximum number of trades per order\n",
    "    n_max = 10\n",
    "\n",
    "    # random start and end time\n",
    "    t_random = [0, 0]\n",
    "    while t_random[0] == t_random[1]:\n",
    "        t_random = np.random.randint(min_start, min_end, 2)\n",
    "\n",
    "    order = {\n",
    "        'mgr': 'mgr_test',\n",
    "        'bkr': 'bkr_test',\n",
    "        'symbol': symbol,\n",
    "        'sign': 1 if np.random.rand() < 0.5 else -1,\n",
    "        'date': date,\n",
    "        'min_start': int(str(min(t_random))),\n",
    "        'min_end': int(str(max(t_random))),\n",
    "        'volume': np.random.randint(0, v_max),\n",
    "        'price': 100. + 10.*np.random.rand(),\n",
    "        'ntrades': np.random.randint(0, n_max),\n",
    "        'is_ok': False\n",
    "    }\n",
    "\n",
    "    return order\n",
    "\n",
    "orders_list = []\n",
    "for symbol, date in itertools.product(symbol_list, date_list):\n",
    "    orders_list = orders_list + [generate_order(symbol, date, market_open, market_close) for i in range(n_orders)]\n",
    "\n",
    "t0 = time.time()\n",
    "api.insert_orders(orders_list)\n",
    "print('Insert ' + str(len(orders_list)) + ' orders in: ' + str(time.time() - t0))"
   ]
  },
  {
   "cell_type": "markdown",
   "metadata": {},
   "source": [
    "### Generate timeseries\n",
    "\n",
    "We generate the timeseries of traded prices and volumes with one minute frequency for the market symbols and dates. Each time series starts at the market open and ends at the market close and consists in a random walk starting at price 100. The volume traded during each minute is constant and equal to 100 volume units. We insert the time series in the database, using the api method `insert_ts()`. Once the timeseries are inserted in the database, we generate an index for all the symbols on the `date` field using the api method `ts_index()`. The index in the database allows to improve the speed in querying the database."
   ]
  },
  {
   "cell_type": "code",
   "execution_count": 30,
   "metadata": {
    "collapsed": false
   },
   "outputs": [
    {
     "name": "stdout",
     "output_type": "stream",
     "text": [
      "Insert 30 timeseries in seconds: 0.5881509780883789\n",
      "Generated indexex in seconds: 0.017637968063354492\n"
     ]
    }
   ],
   "source": [
    "def generate_ts(date, min_start, min_end, volume):\n",
    "\n",
    "    price = 100.\n",
    "    ts = []\n",
    "    for mins in range(min_start, min_end):\n",
    "        record = {\n",
    "            'date': date,\n",
    "            'mins': mins,\n",
    "            'price': price,\n",
    "            'volume': volume\n",
    "                 }\n",
    "        ts.append(record)\n",
    "        price += 2.*(np.random.rand()-0.5)\n",
    "\n",
    "    return ts\n",
    "\n",
    "t0 = time.time()\n",
    "for symbol, date in itertools.product(symbol_list, date_list):\n",
    "    ts = generate_ts(date=date, min_start=market_open, min_end=market_close, volume=100)\n",
    "    api.insert_ts(symbol, ts)\n",
    "print('Insert ' + str(len(symbol_list)*len(date_list)) + ' timeseries in seconds: ' + str(time.time() - t0))\n",
    "\n",
    "t0 = time.time()\n",
    "for symbol in symbol_list:\n",
    "    api.ts_index(symbol=symbol)\n",
    "print('Generated indexex in seconds: ' + str(time.time() - t0))"
   ]
  },
  {
   "cell_type": "markdown",
   "metadata": {},
   "source": [
    "### Extract market info\n",
    "\n",
    "For each order, we retrieve the corresponding market infromation, i.e.:\n",
    "* the daily participation rate, defined as $V_{Order}/V_{Day}$\n",
    "* the period pariticipaiton rate, defined as $V_{Order}/V_{Period}$\n",
    "* the duration in volume time, defined as $V_{Period}/V_{Day}$\n",
    "* the duration in physical time, defined as $t_{end}-t_{start}$\n",
    "* the daily volatility, defined as $\\sigma_D = \\frac{p_{high} - p_{low}}{p_{open}}$\n",
    "* the temporary impact, defined as $\\epsilon \\log p_{end}/p_{start}/ \\sigma_D$\n",
    "* the vwap impact,  defined as $\\epsilon \\log p_{vwap}/p_{start}/ \\sigma_D$\n",
    "\n",
    "This is done using the api method `assign_candle_orders()`."
   ]
  },
  {
   "cell_type": "code",
   "execution_count": 31,
   "metadata": {
    "collapsed": false
   },
   "outputs": [
    {
     "name": "stdout",
     "output_type": "stream",
     "text": [
      "Retrieved market information in seconds: 0.5459749698638916\n"
     ]
    }
   ],
   "source": [
    "t0 = time.time()\n",
    "for symbol, date in itertools.product(symbol_list, date_list):\n",
    "    api.assign_candle_orders(symbol=symbol, date=date)\n",
    "print('Retrieved market information in seconds: ' + str(time.time() - t0))"
   ]
  },
  {
   "cell_type": "markdown",
   "metadata": {},
   "source": [
    "We show one of the orders using the api method `get_orders()`:"
   ]
  },
  {
   "cell_type": "code",
   "execution_count": 32,
   "metadata": {
    "collapsed": false
   },
   "outputs": [
    {
     "data": {
      "text/plain": [
       "{'bkr': 'bkr_test',\n",
       " 'candle_day': {'close': 98.07675675971257,\n",
       "  'high': 105.29900874302302,\n",
       "  'low': 95.67374030989704,\n",
       "  'open': 100.0,\n",
       "  'volume': 10000,\n",
       "  'vwap': 100.57849870224912},\n",
       " 'candle_period': {'close': 99.34189473162803,\n",
       "  'high': 105.29900874302302,\n",
       "  'low': 95.67374030989704,\n",
       "  'open': 97.98998529847876,\n",
       "  'volume': 8000,\n",
       "  'vwap': 100.92283575677413},\n",
       " 'date': 200000,\n",
       " 'duration_ph': 80,\n",
       " 'duration_vol': 0.8,\n",
       " 'impact_end': 0.1423555111737901,\n",
       " 'impact_vwap': 0.585558094846318,\n",
       " 'is_ok': True,\n",
       " 'mgr': 'mgr_test',\n",
       " 'min_end': 192,\n",
       " 'min_start': 112,\n",
       " 'ntrades': 2,\n",
       " 'pr_day': 0.0032,\n",
       " 'pr_period': 0.004,\n",
       " 'price': 103.67145592503103,\n",
       " 'sign': 1,\n",
       " 'symbol': 'MSFT',\n",
       " 'volatility_day': 0.09625268433125982,\n",
       " 'volume': 32}"
      ]
     },
     "execution_count": 32,
     "metadata": {},
     "output_type": "execute_result"
    }
   ],
   "source": [
    "api.get_orders(symbol='MSFT', date=200000)[0]"
   ]
  },
  {
   "cell_type": "code",
   "execution_count": null,
   "metadata": {
    "collapsed": true
   },
   "outputs": [],
   "source": []
  }
 ],
 "metadata": {
  "anaconda-cloud": {},
  "kernelspec": {
   "display_name": "Python [conda env:dana]",
   "language": "python",
   "name": "conda-env-dana-py"
  },
  "language_info": {
   "codemirror_mode": {
    "name": "ipython",
    "version": 3
   },
   "file_extension": ".py",
   "mimetype": "text/x-python",
   "name": "python",
   "nbconvert_exporter": "python",
   "pygments_lexer": "ipython3",
   "version": "3.5.2"
  }
 },
 "nbformat": 4,
 "nbformat_minor": 1
}
