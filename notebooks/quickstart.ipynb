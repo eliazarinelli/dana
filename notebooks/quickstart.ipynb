{
 "cells": [
  {
   "cell_type": "markdown",
   "metadata": {},
   "source": [
    "# Quickstart: how to setup an HTS and a Reservoir database\n",
    "\n",
    "In this notebook we setup a new database\n",
    "\n"
   ]
  },
  {
   "cell_type": "markdown",
   "metadata": {},
   "source": [
    "Import of standard packages:"
   ]
  },
  {
   "cell_type": "code",
   "execution_count": 1,
   "metadata": {
    "collapsed": true
   },
   "outputs": [],
   "source": [
    "import numpy as np\n",
    "import time"
   ]
  },
  {
   "cell_type": "markdown",
   "metadata": {},
   "source": [
    "Import of `DAna` packages:"
   ]
  },
  {
   "cell_type": "code",
   "execution_count": 2,
   "metadata": {
    "collapsed": true
   },
   "outputs": [],
   "source": [
    "import os\n",
    "import sys\n",
    "sys.path.insert(0, os.path.abspath('..'))\n",
    "    \n",
    "from dana.hts import Hts\n",
    "from dana.reservoir import OrdersReservoir, create_mi, create_ci"
   ]
  },
  {
   "cell_type": "markdown",
   "metadata": {},
   "source": [
    "## Historical Time Series database\n",
    "\n"
   ]
  },
  {
   "cell_type": "markdown",
   "metadata": {},
   "source": [
    "We define a function to generate random time series of traded prices and volumes. A time series is a list of dictionaries. Each dictionary stores the information of a one-minute of trades, i.e. a reference price (the vwap or the close price) and the total volume traded within the minute."
   ]
  },
  {
   "cell_type": "code",
   "execution_count": 3,
   "metadata": {
    "collapsed": true
   },
   "outputs": [],
   "source": [
    "def generate_ts(date, start, end, v_minute, volatility):\n",
    "    \n",
    "    ''' Generate random time series of prices and volumes '''\n",
    "\n",
    "    # price start\n",
    "    price = 100.\n",
    "\n",
    "    # empty output\n",
    "    ts = []\n",
    "    for mins in range(start, end):\n",
    "        record = {\n",
    "            'date': date,\n",
    "            'mins': mins,\n",
    "            'price': price,\n",
    "            'volume': v_minute\n",
    "                 }\n",
    "        ts.append(record)\n",
    "        price += volatility * 2.*(np.random.rand()-0.5)\n",
    "\n",
    "    return ts\n"
   ]
  },
  {
   "cell_type": "markdown",
   "metadata": {},
   "source": [
    "We genenerate an instance of the Hts object. We connect to the `localhost` server and to the `ts_example` database. You need a MongoDB instance started."
   ]
  },
  {
   "cell_type": "code",
   "execution_count": 4,
   "metadata": {
    "collapsed": true
   },
   "outputs": [],
   "source": [
    "hts = Hts(engine_url='mongodb://localhost:27017/', db_name='ts_example')"
   ]
  },
  {
   "cell_type": "markdown",
   "metadata": {},
   "source": [
    "We consider a market composed of `n_symbols`. We consider a range of `n_dates` available dates from the Julian date 200000. The market is open between `market_open` and `market_close`. For each symbol a constant volume `v_minute_market` is traded each minute."
   ]
  },
  {
   "cell_type": "code",
   "execution_count": 5,
   "metadata": {
    "collapsed": true
   },
   "outputs": [],
   "source": [
    "# available dates\n",
    "date = 200000\n",
    "n_dates = 100\n",
    "date_list = list(range(date, date+n_dates))\n",
    "\n",
    "# available symbols\n",
    "n_symbols = 10\n",
    "symbol_list = ['symbol_'+str(i) for i in range(n_symbols)]\n",
    "\n",
    "# market open and close\n",
    "market_open = 100\n",
    "market_close = 200\n",
    "\n",
    "# volume per minute traded in the market\n",
    "v_minute_market = 100\n",
    "\n",
    "# price volatility of the price time series for each symbol and date\n",
    "volatility = 1."
   ]
  },
  {
   "cell_type": "markdown",
   "metadata": {},
   "source": [
    "For each couple of day and symbol, we generate a random time series that we store in `hts`. For each symbol, we add an index."
   ]
  },
  {
   "cell_type": "code",
   "execution_count": 6,
   "metadata": {
    "collapsed": false
   },
   "outputs": [],
   "source": [
    "for symbol in symbol_list:\n",
    "\n",
    "    # drop symbol\n",
    "    hts.drop_symbol(symbol)\n",
    "\n",
    "    for date in date_list:\n",
    "        # generate time series\n",
    "        ts = generate_ts(date, market_open, market_close, v_minute_market, volatility)\n",
    "\n",
    "        # insert ts\n",
    "        hts.insert_ts(symbol, ts)\n",
    "\n",
    "    # index on dates\n",
    "    hts.add_index(symbol)"
   ]
  },
  {
   "cell_type": "markdown",
   "metadata": {},
   "source": [
    "## Order Reservoir database\n"
   ]
  },
  {
   "cell_type": "markdown",
   "metadata": {},
   "source": [
    "We define a function to generate random orders. Each order is represented by a dictionary. The information stored in the dictionray is:\n",
    "* `mgr`: the code of the order manager\n",
    "* `bkr`: the code of the order broker\n",
    "* `symbol`: the traded symbol\n",
    "* `sign`: the order sign (-1 sell, +1 buy)\n",
    "* `date`: the trade date (Julian date)\n",
    "* `min_start`: start minute of the order (minutes from midnight)\n",
    "* `min_end`: end minute of the order (minutes from midnight)\n",
    "* `volume`: the order volume (number of units)\n",
    "* `price`: the realised vwap of the order\n",
    "* `n_trades`: the number of trades of the order\n",
    "* `duration_ph`: the order duration in physical time (minutes)\n",
    "* `ci`: cross information with the market\n",
    "* `mi`: market impact information\n"
   ]
  },
  {
   "cell_type": "code",
   "execution_count": 7,
   "metadata": {
    "collapsed": false
   },
   "outputs": [],
   "source": [
    "def random_times(min_start, min_end):\n",
    "\n",
    "    # random start and end time\n",
    "    t_random = [0, 0]\n",
    "    while t_random[0] == t_random[1]:\n",
    "        t_random = np.random.randint(min_start, min_end, 2)\n",
    "\n",
    "    t_start = int(str(min(t_random)))\n",
    "    t_end = int(str(max(t_random)))\n",
    "    return t_start, t_end\n",
    "\n",
    "\n",
    "def create_order(symbol, date, min_start, min_end, v_minute):\n",
    "\n",
    "    \"\"\" Generate a random order \"\"\"\n",
    "\n",
    "    # maximum number of trades per order\n",
    "    n_max = 10\n",
    "\n",
    "    # price base\n",
    "    price_base = 100.\n",
    "\n",
    "    order = {\n",
    "        'mgr': 'mgr_test',\n",
    "        'bkr': 'bkr_test',\n",
    "        'symbol': symbol,\n",
    "        'sign': 1 if np.random.rand() < 0.5 else -1,\n",
    "        'date': date,\n",
    "        'min_start': min_start,\n",
    "        'min_end': min_end,\n",
    "        'volume': v_minute * (min_end-min_start),\n",
    "        'price': price_base + np.random.rand(),\n",
    "        'ntrades': np.random.randint(0, n_max),\n",
    "        'duration_ph': min_end-min_start,\n",
    "        'ci': {'available': False},\n",
    "        'mi': {'available': False}\n",
    "    }\n",
    "\n",
    "    return order\n"
   ]
  },
  {
   "cell_type": "markdown",
   "metadata": {},
   "source": [
    "Generate an insance of a OrderReservoir. We connect to the database `orders_example`."
   ]
  },
  {
   "cell_type": "code",
   "execution_count": 8,
   "metadata": {
    "collapsed": true
   },
   "outputs": [],
   "source": [
    "reservoir = OrdersReservoir(engine_url='mongodb://localhost:27017/', db_name='orders_example')"
   ]
  },
  {
   "cell_type": "markdown",
   "metadata": {},
   "source": [
    "Parameters:"
   ]
  },
  {
   "cell_type": "code",
   "execution_count": 9,
   "metadata": {
    "collapsed": true
   },
   "outputs": [],
   "source": [
    "# number of orders for each day\n",
    "n_orders_day = 20"
   ]
  },
  {
   "cell_type": "markdown",
   "metadata": {},
   "source": [
    "We remove all the orders present in the reservoir."
   ]
  },
  {
   "cell_type": "code",
   "execution_count": 10,
   "metadata": {
    "collapsed": false
   },
   "outputs": [
    {
     "name": "stdout",
     "output_type": "stream",
     "text": [
      "Empty reservoir:\n",
      "0.04789614677429199\n"
     ]
    }
   ],
   "source": [
    "print('Empty reservoir:')\n",
    "t0 = time.time()\n",
    "reservoir.empty_reservoir()\n",
    "print(time.time() - t0)"
   ]
  },
  {
   "cell_type": "markdown",
   "metadata": {},
   "source": [
    "Create a random sample of orders. For each order we retrieve the cross market informaiton `ci` and the market impact information `mi` by means of the `cerate_ci` and `create_mi` functions. The function `create_ci` calculates:\n",
    "* `duration_vol`: the order duration in volume time\n",
    "* `pr_day`: the participation rate per day\n",
    "* `pr_period`: the participation rate per perio\n",
    "* `impact_co`: the impact close-open\n",
    "* `impact_vo`: the impact vwap-open\n",
    "* `impact_vv`: the impact vwap-vwap\n",
    "The function `create_mi` calculate the impact during the execution of the order price(t) vs price(0). We add `mi` and `ci` to the order and we store the information in the database."
   ]
  },
  {
   "cell_type": "code",
   "execution_count": 12,
   "metadata": {
    "collapsed": false
   },
   "outputs": [],
   "source": [
    "for symbol in symbol_list:\n",
    "    for date in date_list:\n",
    "        \n",
    "        # create empty order list\n",
    "        order_list = []\n",
    "        \n",
    "        # create orders\n",
    "        for i_order in range(n_orders_day):\n",
    "            min_start, min_end = random_times(market_open, market_close)\n",
    "            v_minute_order = np.random.randint(v_minute_market)\n",
    "            order_list.append(create_order(symbol=symbol, date=date, min_start=min_start, min_end=min_end, v_minute=v_minute_order))\n",
    "        \n",
    "        # get the day candle\n",
    "        candle_day = hts.get_candle(symbol, date, market_open, market_close)\n",
    "\n",
    "        for order in order_list:\n",
    "            \n",
    "            # create the cross information and add to the order\n",
    "            candle_period = hts.get_candle(symbol, date, order['min_start'], order['min_end'])\n",
    "            ci = create_ci(order, candle_day, candle_period, volatility=1.)\n",
    "            order['ci'] = ci\n",
    "\n",
    "            # create the  market impact information and assign to the order\n",
    "            time_series = hts.get_ts(symbol, date, order['min_start'], order['min_end'])\n",
    "            mi = create_mi(order, time_series, volatility=1.)\n",
    "            order['mi'] = mi\n",
    "        \n",
    "        # add the orders to the reservoir\n",
    "        reservoir.insert_orders(order_list)"
   ]
  },
  {
   "cell_type": "code",
   "execution_count": null,
   "metadata": {
    "collapsed": true
   },
   "outputs": [],
   "source": []
  }
 ],
 "metadata": {
  "anaconda-cloud": {},
  "kernelspec": {
   "display_name": "Python [conda env:dana]",
   "language": "python",
   "name": "conda-env-dana-py"
  },
  "language_info": {
   "codemirror_mode": {
    "name": "ipython",
    "version": 3
   },
   "file_extension": ".py",
   "mimetype": "text/x-python",
   "name": "python",
   "nbconvert_exporter": "python",
   "pygments_lexer": "ipython3",
   "version": "3.5.2"
  }
 },
 "nbformat": 4,
 "nbformat_minor": 1
}
